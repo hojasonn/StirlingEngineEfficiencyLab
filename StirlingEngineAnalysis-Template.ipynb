{
 "cells": [
  {
   "cell_type": "markdown",
   "metadata": {},
   "source": [
    "# Determining the Efficiency of a Stirling Engine"
   ]
  },
  {
   "cell_type": "code",
   "execution_count": 32,
   "metadata": {},
   "outputs": [],
   "source": [
    "# import the necessary packages\n",
    "import numpy as np\n",
    "import pandas as pd\n",
    "from scipy.stats import binned_statistic\n",
    "from matplotlib import pyplot as plt"
   ]
  },
  {
   "cell_type": "markdown",
   "metadata": {},
   "source": [
    "## Using the combined data set"
   ]
  },
  {
   "cell_type": "markdown",
   "metadata": {},
   "source": [
    "Let's first import the data we'll be working with. Pandas can import a .csv file, and we can select rows and columns specifically using slice operators."
   ]
  },
  {
   "cell_type": "code",
   "execution_count": 38,
   "metadata": {},
   "outputs": [],
   "source": [
    "# read in the data from a .csv file\n",
    "data = pd.read_csv('combined-data.csv')\n",
    "deltaT = data.iloc[:,0]\n",
    "f = data.iloc[:,1]\n",
    "fsqrd = f**2"
   ]
  },
  {
   "cell_type": "markdown",
   "metadata": {},
   "source": [
    "The object below will convert data that we feed it into bins of data. In this case, the temperatures (x-axis) will be binned, and the squared frequencies (y-axis) will be averaged. Standard deviations will also be determined. "
   ]
  },
  {
   "cell_type": "code",
   "execution_count": 68,
   "metadata": {},
   "outputs": [
    {
     "name": "stdout",
     "output_type": "stream",
     "text": [
      "Temperature bins: [31.88206546 34.93497483 37.9878842  41.04079357 44.09370294 47.14661231\n",
      " 50.19952168 53.25243105]\n",
      "Average squared frequencies: [1.39575288 2.81342684 4.50582197 5.29504635 6.5380178  8.15966874\n",
      " 5.96487888 5.97376703]\n"
     ]
    }
   ],
   "source": [
    "# create a procedure for sorting the data into bins.\n",
    "def average(x, y, nbins):\n",
    "    \"\"\"\n",
    "    Combine data into bins \n",
    "    and calculate statistics\n",
    "    \"\"\"\n",
    "    y_bins, bin_edges, misc = binned_statistic(x, y, statistic = \"mean\", bins = nbins)\n",
    "    x_bins = (bin_edges[:-1] + bin_edges[1:]) / 2\n",
    "    \n",
    "    y_std, bin_edges, misc = binned_statistic(x, y, statistic = \"std\", bins = nbins)\n",
    "    x_std, bin_edges, misc = binned_statistic(x, x, statistic = \"std\", bins = nbins)\n",
    "    \n",
    "    N, bin_edges, misc = binned_statistic(x, y, statistic = \"count\", bins = nbins)\n",
    "    \n",
    "    return x_bins, y_bins, x_std, y_std, N\n",
    "\n",
    "# nbins controls the number of bins that our data is split into.\n",
    "nbins = 8\n",
    "x_bins, y_bins, x_std, y_std, N = average(deltaT, fsqrd, nbins)\n",
    "\n",
    "# list the bins and average squared frequencies.\n",
    "print(f\"Temperature bins: {x_bins}\")\n",
    "print(f\"Average squared frequencies: {y_bins}\")"
   ]
  },
  {
   "cell_type": "code",
   "execution_count": 51,
   "metadata": {},
   "outputs": [
    {
     "data": {
      "image/png": "[encoded data removed]",
      "text/plain": [
       "<Figure size 432x288 with 1 Axes>"
      ]
     },
     "metadata": {
      "needs_background": "light"
     },
     "output_type": "display_data"
    }
   ],
   "source": [
    "# plot the raw data and the binned data together for a visual inspection\n",
    "\n",
    "plt.scatter(deltaT, fsqrd)\n",
    "plt.scatter(x_bins, y_bins)\n",
    "plt.errorbar(x_bins, y_bins, yerr = y_std, fmt = \"o\", color = \"orange\")\n",
    "plt.title(\"$f^2$ as a function of binned $\\Delta T$\")\n",
    "plt.ylabel(\"$f^2$\")\n",
    "plt.xlabel(\"$\\Delta T$\")\n",
    "plt.show()"
   ]
  },
  {
   "cell_type": "markdown",
   "metadata": {},
   "source": [
    "What does a linear regression tell us about this data?"
   ]
  },
  {
   "cell_type": "code",
   "execution_count": 99,
   "metadata": {},
   "outputs": [
    {
     "name": "stdout",
     "output_type": "stream",
     "text": [
      "[ 0.23399955 -4.87991935]\n"
     ]
    }
   ],
   "source": [
    "# perform a linear regression using numpy's polyfit()\n",
    "dataX = x_bins\n",
    "dataY = y_bins\n",
    "model = np.polyfit(dataX,dataY,1)\n",
    "model_fn = np.poly1d(model)\n",
    "\n",
    "print(model)"
   ]
  },
  {
   "cell_type": "markdown",
   "metadata": {},
   "source": [
    "Using the slope from our linear regression and some knowledge about the Stirling engine parameters, we can estimate the efficiency of the engine. "
   ]
  },
  {
   "cell_type": "code",
   "execution_count": 100,
   "metadata": {},
   "outputs": [
    {
     "name": "stdout",
     "output_type": "stream",
     "text": [
      "0.03788053256248496\n"
     ]
    }
   ],
   "source": [
    "# these parameters are from Yeadon's paper, and aren't measured directly from our Stirling engines.\n",
    "\n",
    "m_wheel = 6.52e-2\n",
    "r_wheel = 4.35e-2\n",
    "nMoles = 3.45e-3\n",
    "gasConstant = 8.31\n",
    "compression_ratio = 1.3\n",
    "\n",
    "# calculate the efficiency of the Stirling engine.\n",
    "efficiency = model[0]*(np.pi**2)*(r_wheel**2)*m_wheel/nMoles/np.log(compression_ratio)/gasConstant\n",
    "print(efficiency)"
   ]
  },
  {
   "cell_type": "code",
   "execution_count": 101,
   "metadata": {},
   "outputs": [
    {
     "data": {
      "image/png": "[encoded data removed]",
      "text/plain": [
       "<Figure size 432x288 with 1 Axes>"
      ]
     },
     "metadata": {
      "needs_background": "light"
     },
     "output_type": "display_data"
    }
   ],
   "source": [
    "# let's make a final plot of the data + model\n",
    "\n",
    "plt.scatter(x_bins, y_bins)\n",
    "plt.plot(dataX, model_fn(dataX))\n",
    "plt.errorbar(x_bins, y_bins, yerr = y_std, fmt = \"o\", color = \"orange\")\n",
    "plt.title(\"$f^2$ as a function of binned $\\Delta T$\")\n",
    "plt.ylabel(\"$f^2$\")\n",
    "plt.xlabel(\"$\\Delta T$\")\n",
    "plt.show()"
   ]
  }
 ],
 "metadata": {
  "kernelspec": {
   "display_name": "Python 3",
   "language": "python",
   "name": "python3"
  },
  "language_info": {
   "codemirror_mode": {
    "name": "ipython",
    "version": 3
   },
   "file_extension": ".py",
   "mimetype": "text/x-python",
   "name": "python",
   "nbconvert_exporter": "python",
   "pygments_lexer": "ipython3",
   "version": "3.8.10"
  }
 },
 "nbformat": 4,
 "nbformat_minor": 4
}
